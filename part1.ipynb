{
 "cells": [
  {
   "cell_type": "markdown",
   "metadata": {},
   "source": [
    "# Mitiq Tutorial"
   ]
  },
  {
   "cell_type": "markdown",
   "metadata": {},
   "source": [
    "## Executors"
   ]
  },
  {
   "cell_type": "code",
   "execution_count": 2,
   "metadata": {},
   "outputs": [],
   "source": [
    "import cirq\n",
    "\n",
    "\n",
    "def execute(circuit, noise_level=0.005):\n",
    "    \"\"\"Returns Tr[ρ |0⟩⟨0|] where ρ is the state prepared by the circuit\n",
    "    with depolarizing noise.\"\"\"\n",
    "    noisy_circuit = circuit.with_noise(cirq.depolarize(p=noise_level))\n",
    "    return (\n",
    "        cirq.DensityMatrixSimulator()\n",
    "        .simulate(noisy_circuit)\n",
    "        .final_density_matrix[0, 0]\n",
    "        .real\n",
    "    )"
   ]
  },
  {
   "cell_type": "markdown",
   "metadata": {},
   "source": [
    "## ZNE"
   ]
  },
  {
   "cell_type": "code",
   "execution_count": 8,
   "metadata": {},
   "outputs": [
    {
     "name": "stdout",
     "output_type": "stream",
     "text": [
      "Error w/o  Mitiq: 0.558\n",
      "Error w Mitiq:    0.313\n"
     ]
    }
   ],
   "source": [
    "from mitiq import zne\n",
    "from mitiq.benchmarks import generate_rb_circuits\n",
    "\n",
    "circuit = generate_rb_circuits(n_qubits=2, num_cliffords=20)[0]\n",
    "\n",
    "true_value = execute(circuit, noise_level=0.0)\n",
    "noisy_value = execute(circuit)\n",
    "zne_value = zne.execute_with_zne(circuit, execute)\n",
    "\n",
    "print(f\"Error w/o  Mitiq: {abs((true_value - noisy_value) / true_value):.3f}\")\n",
    "print(f\"Error w Mitiq:    {abs((true_value - zne_value) / true_value):.3f}\")"
   ]
  },
  {
   "cell_type": "markdown",
   "metadata": {},
   "source": [
    "## Calibration"
   ]
  },
  {
   "cell_type": "code",
   "execution_count": 9,
   "metadata": {},
   "outputs": [],
   "source": [
    "import numpy as np\n",
    "from mitiq import MeasurementResult\n",
    "\n",
    "\n",
    "def execute_with_depolarizing(circuit, noise_level=0.001):\n",
    "    circuit = circuit.with_noise(cirq.depolarize(p=noise_level))\n",
    "    result = cirq.DensityMatrixSimulator().run(circuit, repetitions=100)\n",
    "    bitstrings = np.column_stack(list(result.measurements.values()))\n",
    "    return MeasurementResult(bitstrings)"
   ]
  },
  {
   "cell_type": "code",
   "execution_count": 10,
   "metadata": {},
   "outputs": [
    {
     "name": "stdout",
     "output_type": "stream",
     "text": [
      "| performance | circuit | method | extrapolation | scale factors | scale_method         |\n",
      "| ----------- | ------- | ------ | ------------- | ------------- | -------------------- |\n",
      "|     ❌      |   ghz   |  ZNE   | Richardson    | 1.0, 2.0, 3.0 | fold_global          |\n",
      "|     ✅      |   ghz   |  ZNE   | Richardson    | 1.0, 3.0, 5.0 | fold_global          |\n",
      "|     ❌      |   ghz   |  ZNE   | Linear        | 1.0, 2.0, 3.0 | fold_global          |\n",
      "|     ❌      |   ghz   |  ZNE   | Linear        | 1.0, 3.0, 5.0 | fold_global          |\n",
      "|     ❌      |   ghz   |  ZNE   | Richardson    | 1.0, 2.0, 3.0 | fold_gates_at_random |\n",
      "|     ❌      |   ghz   |  ZNE   | Richardson    | 1.0, 3.0, 5.0 | fold_gates_at_random |\n",
      "|     ✅      |   ghz   |  ZNE   | Linear        | 1.0, 2.0, 3.0 | fold_gates_at_random |\n",
      "|     ❌      |   ghz   |  ZNE   | Linear        | 1.0, 3.0, 5.0 | fold_gates_at_random |\n",
      "|     ❌      |    w    |  ZNE   | Richardson    | 1.0, 2.0, 3.0 | fold_global          |\n",
      "|     ✅      |    w    |  ZNE   | Richardson    | 1.0, 3.0, 5.0 | fold_global          |\n",
      "|     ❌      |    w    |  ZNE   | Linear        | 1.0, 2.0, 3.0 | fold_global          |\n",
      "|     ✅      |    w    |  ZNE   | Linear        | 1.0, 3.0, 5.0 | fold_global          |\n",
      "|     ❌      |    w    |  ZNE   | Richardson    | 1.0, 2.0, 3.0 | fold_gates_at_random |\n",
      "|     ❌      |    w    |  ZNE   | Richardson    | 1.0, 3.0, 5.0 | fold_gates_at_random |\n",
      "|     ❌      |    w    |  ZNE   | Linear        | 1.0, 2.0, 3.0 | fold_gates_at_random |\n",
      "|     ❌      |    w    |  ZNE   | Linear        | 1.0, 3.0, 5.0 | fold_gates_at_random |\n",
      "|     ✅      |   rb    |  ZNE   | Richardson    | 1.0, 2.0, 3.0 | fold_global          |\n",
      "|     ✅      |   rb    |  ZNE   | Richardson    | 1.0, 3.0, 5.0 | fold_global          |\n",
      "|     ✅      |   rb    |  ZNE   | Linear        | 1.0, 2.0, 3.0 | fold_global          |\n",
      "|     ✅      |   rb    |  ZNE   | Linear        | 1.0, 3.0, 5.0 | fold_global          |\n",
      "|     ❌      |   rb    |  ZNE   | Richardson    | 1.0, 2.0, 3.0 | fold_gates_at_random |\n",
      "|     ✅      |   rb    |  ZNE   | Richardson    | 1.0, 3.0, 5.0 | fold_gates_at_random |\n",
      "|     ✅      |   rb    |  ZNE   | Linear        | 1.0, 2.0, 3.0 | fold_gates_at_random |\n",
      "|     ✅      |   rb    |  ZNE   | Linear        | 1.0, 3.0, 5.0 | fold_gates_at_random |\n",
      "|     ❌      | mirror  |  ZNE   | Richardson    | 1.0, 2.0, 3.0 | fold_global          |\n",
      "|     ✅      | mirror  |  ZNE   | Richardson    | 1.0, 3.0, 5.0 | fold_global          |\n",
      "|     ❌      | mirror  |  ZNE   | Linear        | 1.0, 2.0, 3.0 | fold_global          |\n",
      "|     ✅      | mirror  |  ZNE   | Linear        | 1.0, 3.0, 5.0 | fold_global          |\n",
      "|     ❌      | mirror  |  ZNE   | Richardson    | 1.0, 2.0, 3.0 | fold_gates_at_random |\n",
      "|     ✅      | mirror  |  ZNE   | Richardson    | 1.0, 3.0, 5.0 | fold_gates_at_random |\n",
      "|     ✅      | mirror  |  ZNE   | Linear        | 1.0, 2.0, 3.0 | fold_gates_at_random |\n",
      "|     ❌      | mirror  |  ZNE   | Linear        | 1.0, 3.0, 5.0 | fold_gates_at_random |\n"
     ]
    }
   ],
   "source": [
    "from mitiq import Calibrator\n",
    "\n",
    "cal = Calibrator(execute_with_depolarizing, frontend=\"cirq\")\n",
    "\n",
    "cal.run(log=True)"
   ]
  },
  {
   "cell_type": "code",
   "execution_count": 11,
   "metadata": {},
   "outputs": [
    {
     "data": {
      "text/plain": [
       "{'technique': 'ZNE', 'factory': 'RichardsonFactory', 'scale_factors': [1.0, 3.0, 5.0], 'scale_method': 'fold_global'}"
      ]
     },
     "execution_count": 11,
     "metadata": {},
     "output_type": "execute_result"
    }
   ],
   "source": [
    "cal.best_strategy()"
   ]
  },
  {
   "cell_type": "code",
   "execution_count": null,
   "metadata": {},
   "outputs": [],
   "source": []
  }
 ],
 "metadata": {
  "kernelspec": {
   "display_name": "dev",
   "language": "python",
   "name": "python3"
  },
  "language_info": {
   "codemirror_mode": {
    "name": "ipython",
    "version": 3
   },
   "file_extension": ".py",
   "mimetype": "text/x-python",
   "name": "python",
   "nbconvert_exporter": "python",
   "pygments_lexer": "ipython3",
   "version": "3.10.9"
  },
  "orig_nbformat": 4
 },
 "nbformat": 4,
 "nbformat_minor": 2
}
