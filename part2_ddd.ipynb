{
 "cells": [
  {
   "cell_type": "markdown",
   "metadata": {},
   "source": [
    "# Digital Dynamical Decoupling (DDD) with Mitiq"
   ]
  },
  {
   "cell_type": "markdown",
   "metadata": {},
   "source": [
    "### In this section we will complete the following steps:\n",
    "\n",
    "   #### 1. Set up an example circuit in a Mitiq-supported frontend\n",
    "   \n",
    "   #### 2. Insert DDD sequences in the circuit\n",
    "          a. Insert a built-in DDD sequence in the circuit\n",
    "          b. Define a custom rule for inserting DDD sequences\n",
    "          \n",
    "   #### 3. Use Mitiq's top level function `mitiq.ddd.execute_with_ddd()` to check that the results are improved with mitigation."
   ]
  },
  {
   "cell_type": "markdown",
   "metadata": {},
   "source": [
    "## Step 1: Set up circuit\n",
    "A quantum circuit can be visualized as a 2D grid where the horizontal axis represents discrete time steps (often called moments) and the vertical axis represents the qubits of the circuit. \n",
    "Each gate occupies one or more grid cells, depending on the number of qubits it acts on.\n",
    "\n",
    "This 2D grid is essentially what we get each time we print a circuit out. \n",
    "\n",
    "A slack window is an horizontal and contiguous sequence of zeros in the mask matrix, corresponding to a qubit which is idling for a finite amount of time. \n",
    "Find the slack windows in the circuit below:"
   ]
  },
  {
   "cell_type": "code",
   "execution_count": 1,
   "metadata": {},
   "outputs": [
    {
     "data": {
      "text/html": [
       "<pre style=\"overflow: auto; white-space: pre;\">0: ───X───×───────────────────────────X───\n",
       "          │\n",
       "1: ───X───×───×───────────────────────X───\n",
       "              │\n",
       "2: ───X───────×───×───────────────────X───\n",
       "                  │\n",
       "3: ───X───────────×───×───────────────X───\n",
       "                      │\n",
       "4: ───X───────────────×───×───────────X───\n",
       "                          │\n",
       "5: ───X───────────────────×───×───────X───\n",
       "                              │\n",
       "6: ───X───────────────────────×───×───X───\n",
       "                                  │\n",
       "7: ───X───────────────────────────×───X───</pre>"
      ],
      "text/plain": [
       "0: ───X───×───────────────────────────X───\n",
       "          │\n",
       "1: ───X───×───×───────────────────────X───\n",
       "              │\n",
       "2: ───X───────×───×───────────────────X───\n",
       "                  │\n",
       "3: ───X───────────×───×───────────────X───\n",
       "                      │\n",
       "4: ───X───────────────×───×───────────X───\n",
       "                          │\n",
       "5: ───X───────────────────×───×───────X───\n",
       "                              │\n",
       "6: ───X───────────────────────×───×───X───\n",
       "                                  │\n",
       "7: ───X───────────────────────────×───X───"
      ]
     },
     "execution_count": 1,
     "metadata": {},
     "output_type": "execute_result"
    }
   ],
   "source": [
    "from cirq import Circuit, X, H, SWAP, LineQubit\n",
    "\n",
    "qreg = LineQubit.range(8)\n",
    "x_layer = Circuit(X.on_each(qreg))\n",
    "cnots_layer = Circuit(SWAP.on(q, q + 1) for q in qreg[:-1])\n",
    "circuit = x_layer + cnots_layer + x_layer\n",
    "circuit"
   ]
  },
  {
   "cell_type": "markdown",
   "metadata": {},
   "source": [
    "## Step 2: Insert DDD sequences in the circuit\n",
    "\n",
    "The DDD error mitigation technique consists of filling the slack windows of a circuit with DDD gate sequences.\n",
    "This can be directly achieved via the function `insert_ddd_sequences()` function."
   ]
  },
  {
   "cell_type": "markdown",
   "metadata": {},
   "source": [
    "#### Common dynamical decoupling sequences are arrays of (evenly spaced) Pauli gates. \n",
    "In particular, Mitiq has built-in:"
   ]
  },
  {
   "cell_type": "markdown",
   "metadata": {},
   "source": [
    "XX sequences, typically appropriate for mitigating (time-correlated) dephasing noise:"
   ]
  },
  {
   "cell_type": "code",
   "execution_count": 2,
   "metadata": {},
   "outputs": [
    {
     "data": {
      "text/html": [
       "<pre style=\"overflow: auto; white-space: pre;\">0: ───X───×───I───I───X───I───X───I───X───\n",
       "          │\n",
       "1: ───X───×───×───I───X───I───X───I───X───\n",
       "              │\n",
       "2: ───X───────×───×───I───X───X───I───X───\n",
       "                  │\n",
       "3: ───X───X───X───×───×───I───X───X───X───\n",
       "                      │\n",
       "4: ───X───I───X───X───×───×───X───X───X───\n",
       "                          │\n",
       "5: ───X───I───X───X───I───×───×───────X───\n",
       "                              │\n",
       "6: ───X───I───X───I───X───I───×───×───X───\n",
       "                                  │\n",
       "7: ───X───I───I───X───I───X───I───×───X───</pre>"
      ],
      "text/plain": [
       "0: ───X───×───I───I───X───I───X───I───X───\n",
       "          │\n",
       "1: ───X───×───×───I───X───I───X───I───X───\n",
       "              │\n",
       "2: ───X───────×───×───I───X───X───I───X───\n",
       "                  │\n",
       "3: ───X───X───X───×───×───I───X───X───X───\n",
       "                      │\n",
       "4: ───X───I───X───X───×───×───X───X───X───\n",
       "                          │\n",
       "5: ───X───I───X───X───I───×───×───────X───\n",
       "                              │\n",
       "6: ───X───I───X───I───X───I───×───×───X───\n",
       "                                  │\n",
       "7: ───X───I───I───X───I───X───I───×───X───"
      ]
     },
     "execution_count": 2,
     "metadata": {},
     "output_type": "execute_result"
    }
   ],
   "source": [
    "from mitiq import ddd\n",
    "xx_rule = ddd.rules.xx\n",
    "circuit_with_ddd_xx = ddd.insert_ddd_sequences(circuit, rule=xx_rule)\n",
    "circuit_with_ddd_xx"
   ]
  },
  {
   "cell_type": "markdown",
   "metadata": {},
   "source": [
    "YY sequences, typically appropriate for mitigating (time-correlated) amplitude damping noise:"
   ]
  },
  {
   "cell_type": "code",
   "execution_count": 3,
   "metadata": {},
   "outputs": [
    {
     "data": {
      "text/html": [
       "<pre style=\"overflow: auto; white-space: pre;\">0: ───X───×───I───I───Y───I───Y───I───X───\n",
       "          │\n",
       "1: ───X───×───×───I───Y───I───Y───I───X───\n",
       "              │\n",
       "2: ───X───────×───×───I───Y───Y───I───X───\n",
       "                  │\n",
       "3: ───X───Y───Y───×───×───I───Y───Y───X───\n",
       "                      │\n",
       "4: ───X───I───Y───Y───×───×───Y───Y───X───\n",
       "                          │\n",
       "5: ───X───I───Y───Y───I───×───×───────X───\n",
       "                              │\n",
       "6: ───X───I───Y───I───Y───I───×───×───X───\n",
       "                                  │\n",
       "7: ───X───I───I───Y───I───Y───I───×───X───</pre>"
      ],
      "text/plain": [
       "0: ───X───×───I───I───Y───I───Y───I───X───\n",
       "          │\n",
       "1: ───X───×───×───I───Y───I───Y───I───X───\n",
       "              │\n",
       "2: ───X───────×───×───I───Y───Y───I───X───\n",
       "                  │\n",
       "3: ───X───Y───Y───×───×───I───Y───Y───X───\n",
       "                      │\n",
       "4: ───X───I───Y───Y───×───×───Y───Y───X───\n",
       "                          │\n",
       "5: ───X───I───Y───Y───I───×───×───────X───\n",
       "                              │\n",
       "6: ───X───I───Y───I───Y───I───×───×───X───\n",
       "                                  │\n",
       "7: ───X───I───I───Y───I───Y───I───×───X───"
      ]
     },
     "execution_count": 3,
     "metadata": {},
     "output_type": "execute_result"
    }
   ],
   "source": [
    "from mitiq import ddd\n",
    "yy_rule = ddd.rules.yy\n",
    "circuit_with_ddd_yy = ddd.insert_ddd_sequences(circuit, rule=yy_rule)\n",
    "circuit_with_ddd_yy"
   ]
  },
  {
   "cell_type": "markdown",
   "metadata": {},
   "source": [
    "XYXY sequences: typically appropriate for mitigating generic single-qubit noise.\n",
    "Let's use the XYXY rule for our workflow. \n",
    "You can experiment with other built-in sequences or define your own."
   ]
  },
  {
   "cell_type": "code",
   "execution_count": 4,
   "metadata": {},
   "outputs": [
    {
     "data": {
      "text/html": [
       "<pre style=\"overflow: auto; white-space: pre;\">0: ───X───×───I───X───Y───X───Y───I───X───\n",
       "          │\n",
       "1: ───X───×───×───I───X───Y───X───Y───X───\n",
       "              │\n",
       "2: ───X───────×───×───X───Y───X───Y───X───\n",
       "                  │\n",
       "3: ───X───────────×───×───────────────X───\n",
       "                      │\n",
       "4: ───X───────────────×───×───────────X───\n",
       "                          │\n",
       "5: ───X───X───Y───X───Y───×───×───────X───\n",
       "                              │\n",
       "6: ───X───I───X───Y───X───Y───×───×───X───\n",
       "                                  │\n",
       "7: ───X───I───X───Y───X───Y───I───×───X───</pre>"
      ],
      "text/plain": [
       "0: ───X───×───I───X───Y───X───Y───I───X───\n",
       "          │\n",
       "1: ───X───×───×───I───X───Y───X───Y───X───\n",
       "              │\n",
       "2: ───X───────×───×───X───Y───X───Y───X───\n",
       "                  │\n",
       "3: ───X───────────×───×───────────────X───\n",
       "                      │\n",
       "4: ───X───────────────×───×───────────X───\n",
       "                          │\n",
       "5: ───X───X───Y───X───Y───×───×───────X───\n",
       "                              │\n",
       "6: ───X───I───X───Y───X───Y───×───×───X───\n",
       "                                  │\n",
       "7: ───X───I───X───Y───X───Y───I───×───X───"
      ]
     },
     "execution_count": 4,
     "metadata": {},
     "output_type": "execute_result"
    }
   ],
   "source": [
    "from mitiq import ddd\n",
    "xyxy_rule = ddd.rules.xyxy\n",
    "circuit_with_ddd = ddd.insert_ddd_sequences(circuit, rule=xyxy_rule)\n",
    "circuit_with_ddd"
   ]
  },
  {
   "cell_type": "markdown",
   "metadata": {},
   "source": [
    "### Define a custom rule for inserting DDD sequences"
   ]
  },
  {
   "cell_type": "code",
   "execution_count": 5,
   "metadata": {},
   "outputs": [
    {
     "name": "stdout",
     "output_type": "stream",
     "text": [
      "0: ───H───H───\n",
      "0: ───H───H───H───H───\n"
     ]
    }
   ],
   "source": [
    "import numpy as np \n",
    "\n",
    "def custom_rule(slack_length: int) -> Circuit:\n",
    "    q = LineQubit(0)\n",
    "    if slack_length == 2:\n",
    "        sequence = Circuit([H(q), H(q)])\n",
    "    elif slack_length == 4:\n",
    "        sequence = Circuit([H(q), H(q), H(q), H(q)])\n",
    "    else:\n",
    "        sequence = Circuit()\n",
    "    return sequence\n",
    "\n",
    "# Test\n",
    "print(custom_rule(2))\n",
    "print(custom_rule(4))"
   ]
  },
  {
   "cell_type": "markdown",
   "metadata": {},
   "source": [
    "## Step 3. Use Mitiq's top level function `mitiq.ddd.execute_with_ddd()` and check that the results are improved with mitigation."
   ]
  },
  {
   "cell_type": "markdown",
   "metadata": {},
   "source": [
    "Define an executor function to evaluate expectation values."
   ]
  },
  {
   "cell_type": "code",
   "execution_count": 6,
   "metadata": {},
   "outputs": [],
   "source": [
    "import numpy as np\n",
    "from cirq import DensityMatrixSimulator, amplitude_damp\n",
    "from mitiq.interface import convert_to_mitiq\n",
    "\n",
    "def execute(circuit, noise_level=0.01):\n",
    "    \"\"\"Returns Tr[ρ |0⟩⟨0|] where ρ is the state prepared by the circuit\n",
    "    executed with amplitude damping noise.\n",
    "    \"\"\"\n",
    "    mitiq_circuit, _ = convert_to_mitiq(circuit)\n",
    "    noisy_circuit = mitiq_circuit.with_noise(amplitude_damp(gamma=noise_level))\n",
    "    rho = DensityMatrixSimulator().simulate(noisy_circuit).final_density_matrix\n",
    "    return rho[0, 0].real"
   ]
  },
  {
   "cell_type": "markdown",
   "metadata": {},
   "source": [
    "Compute the noisy (unmitigated) and ideal expectation values."
   ]
  },
  {
   "cell_type": "code",
   "execution_count": 7,
   "metadata": {},
   "outputs": [
    {
     "name": "stdout",
     "output_type": "stream",
     "text": [
      "Error without mitigation: 0.471\n"
     ]
    }
   ],
   "source": [
    "# Compute the expectation value of the |0><0| observable.\n",
    "noisy_value = execute(circuit)\n",
    "ideal_value = execute(circuit, noise_level=0.0)\n",
    "print(f\"Error without mitigation: {abs(ideal_value - noisy_value) :.3}\")"
   ]
  },
  {
   "cell_type": "code",
   "execution_count": 8,
   "metadata": {},
   "outputs": [
    {
     "name": "stdout",
     "output_type": "stream",
     "text": [
      "Error with mitigation: 0.402\n"
     ]
    }
   ],
   "source": [
    "# Ideal result\n",
    "execute(circuit, noise_level=0)\n",
    "\n",
    "# Unmitigated result\n",
    "execute(circuit)\n",
    "\n",
    "\n",
    "mitigated = ddd.execute_with_ddd(circuit, execute, rule=xyxy_rule)\n",
    "print(f\"Error with mitigation: {abs(ideal_value - mitigated) :.3}\")\n"
   ]
  }
 ],
 "metadata": {
  "interpreter": {
   "hash": "992c44e14009e3623432b51dfa0ccb8179e6507fb1569359de12ac98f26b40e8"
  },
  "kernelspec": {
   "display_name": "Python 3 (ipykernel)",
   "language": "python",
   "name": "python3"
  },
  "language_info": {
   "codemirror_mode": {
    "name": "ipython",
    "version": 3
   },
   "file_extension": ".py",
   "mimetype": "text/x-python",
   "name": "python",
   "nbconvert_exporter": "python",
   "pygments_lexer": "ipython3",
   "version": "3.8.13"
  }
 },
 "nbformat": 4,
 "nbformat_minor": 2
}
