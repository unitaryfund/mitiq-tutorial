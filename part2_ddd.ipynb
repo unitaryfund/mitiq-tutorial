{
 "cells": [
  {
   "cell_type": "markdown",
   "metadata": {},
   "source": [
    "# Digital Dynamical Decoupling (DDD) with Mitiq"
   ]
  },
  {
   "cell_type": "markdown",
   "metadata": {},
   "source": [
    "### In this section we will complete the following steps:\n",
    "\n",
    "   #### 1. Set up an example circuit in a Mitiq-supported frontend\n",
    "   \n",
    "   #### 2. Insert DDD sequences in the circuit\n",
    "          a. Insert a built-in DDD sequence in the circuit\n",
    "          b. Define a custom rule for inserting DDD sequences\n",
    "          \n",
    "   #### 3. Use Mitiq's top level function `mitiq.ddd.execute_with_ddd()` to check that the results are improved with mitigation."
   ]
  },
  {
   "cell_type": "markdown",
   "metadata": {},
   "source": [
    "## Step 1: Set up circuit\n",
    "A quantum circuit can be visualized as a 2D grid where the horizontal axis represents discrete time steps (often called moments) and the vertical axis represents the qubits of the circuit. \n",
    "Each gate occupies one or more grid cells, depending on the number of qubits it acts on.\n",
    "\n",
    "This 2D grid is essentially what we get each time we print a circuit out. \n",
    "\n",
    "A slack window is an horizontal and contiguous sequence of zeros in the mask matrix, corresponding to a qubit which is idling for a finite amount of time. \n",
    "Find the slack windows in the circuit below:"
   ]
  },
  {
   "cell_type": "code",
   "execution_count": null,
   "metadata": {},
   "outputs": [],
   "source": []
  },
  {
   "cell_type": "markdown",
   "metadata": {},
   "source": [
    "## Step 2: Insert DDD sequences in the circuit\n",
    "\n",
    "The DDD error mitigation technique consists of filling the slack windows of a circuit with DDD gate sequences.\n",
    "This can be directly achieved via the function `insert_ddd_sequences()` function."
   ]
  },
  {
   "cell_type": "markdown",
   "metadata": {},
   "source": [
    "#### Common dynamical decoupling sequences are arrays of (evenly spaced) Pauli gates. \n",
    "In particular, Mitiq has built-in:"
   ]
  },
  {
   "cell_type": "markdown",
   "metadata": {},
   "source": [
    "XX sequences, typically appropriate for mitigating (time-correlated) dephasing noise:"
   ]
  },
  {
   "cell_type": "code",
   "execution_count": null,
   "metadata": {},
   "outputs": [],
   "source": []
  },
  {
   "cell_type": "markdown",
   "metadata": {},
   "source": [
    "YY sequences, typically appropriate for mitigating (time-correlated) amplitude damping noise:"
   ]
  },
  {
   "cell_type": "code",
   "execution_count": null,
   "metadata": {},
   "outputs": [],
   "source": []
  },
  {
   "cell_type": "markdown",
   "metadata": {},
   "source": [
    "XYXY sequences: typically appropriate for mitigating generic single-qubit noise.\n",
    "Let's use the XYXY rule for our workflow. \n",
    "You can experiment with other built-in sequences or define your own."
   ]
  },
  {
   "cell_type": "code",
   "execution_count": null,
   "metadata": {},
   "outputs": [],
   "source": []
  },
  {
   "cell_type": "markdown",
   "metadata": {},
   "source": [
    "### Define a custom rule for inserting DDD sequences"
   ]
  },
  {
   "cell_type": "code",
   "execution_count": null,
   "metadata": {},
   "outputs": [],
   "source": []
  },
  {
   "cell_type": "markdown",
   "metadata": {},
   "source": [
    "## Step 3. Use Mitiq's top level function `mitiq.ddd.execute_with_ddd()` and check that the results are improved with mitigation."
   ]
  },
  {
   "cell_type": "markdown",
   "metadata": {},
   "source": [
    "Define an executor function to evaluate expectation values."
   ]
  },
  {
   "cell_type": "code",
   "execution_count": null,
   "metadata": {},
   "outputs": [],
   "source": []
  },
  {
   "cell_type": "markdown",
   "metadata": {},
   "source": [
    "Compute the noisy (unmitigated) and ideal expectation values."
   ]
  },
  {
   "cell_type": "code",
   "execution_count": null,
   "metadata": {},
   "outputs": [],
   "source": []
  },
  {
   "cell_type": "code",
   "execution_count": null,
   "metadata": {},
   "outputs": [],
   "source": []
  }
 ],
 "metadata": {
  "interpreter": {
   "hash": "992c44e14009e3623432b51dfa0ccb8179e6507fb1569359de12ac98f26b40e8"
  },
  "kernelspec": {
   "display_name": "Python 3 (ipykernel)",
   "language": "python",
   "name": "python3"
  },
  "language_info": {
   "codemirror_mode": {
    "name": "ipython",
    "version": 3
   },
   "file_extension": ".py",
   "mimetype": "text/x-python",
   "name": "python",
   "nbconvert_exporter": "python",
   "pygments_lexer": "ipython3",
   "version": "3.8.13"
  }
 },
 "nbformat": 4,
 "nbformat_minor": 2
}
