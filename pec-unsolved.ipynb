{
 "cells": [
  {
   "cell_type": "markdown",
   "metadata": {},
   "source": [
    "# Probabilisitic Error Cancellation with Mitiq"
   ]
  },
  {
   "cell_type": "markdown",
   "metadata": {},
   "source": [
    "### In this section:\n",
    "#### 1. Set up an example circuit and executor in a Mitiq-supported frontend\n",
    "#### 2. Step through the two main components of PEC: \n",
    "     a. generating quasiprobability representations\n",
    "     b. sampling from the representations\n",
    "#### 3. Use Mitiq's top level function `mitiq.pec.execute_with_pec()` and check that the results are equivalent "
   ]
  },
  {
   "cell_type": "markdown",
   "metadata": {},
   "source": [
    "## Step 1: Set up circuit and representations of gates"
   ]
  },
  {
   "cell_type": "code",
   "execution_count": null,
   "metadata": {},
   "outputs": [],
   "source": []
  },
  {
   "cell_type": "markdown",
   "metadata": {},
   "source": [
    "Define the list of `OperationRepresentation`s (one for each gate).\n",
    "\n",
    "An `OperationRepresentation` is a decomposition (basis expansion) of an operation or sequence of operations in a basis of noisy, implementable operations.\n",
    "\n",
    "For this example we assume local depolarizing noise."
   ]
  },
  {
   "cell_type": "code",
   "execution_count": null,
   "metadata": {},
   "outputs": [],
   "source": []
  },
  {
   "cell_type": "markdown",
   "metadata": {},
   "source": [
    "Let's look at the first `OperationRepresentation` in the list `reps`:"
   ]
  },
  {
   "cell_type": "code",
   "execution_count": null,
   "metadata": {},
   "outputs": [],
   "source": []
  },
  {
   "cell_type": "markdown",
   "metadata": {},
   "source": [
    "## Step 2a: Probabilistic generation of all auxiliary circuits"
   ]
  },
  {
   "cell_type": "markdown",
   "metadata": {},
   "source": [
    "The following steps are implemented in the Mitiq function sample_circuit() to probabilistically generate an integer number of auxiliary circuits, equivalent to the number of PEC samples:\n",
    "- Define an empty `sampled_circuit` to be populated with probabilistic operations\n",
    "- Define an empty `gate_sign_list` to be populated with the sign values\n",
    "- Start a loop over the ideal operations of circuit:\n",
    "    - Search for the corresponding `OperationRepresentation` in the input list of quasiprobability representations\n",
    "    - Sample a noisy gate from the quasi-probability distribution of the ideal gate using `rep[j].sample()`\n",
    "    - Append the sampled gate to `sampled_circuit` and the corresponding sign to `gate_sign_list`;\n",
    "- Return `sampled_circuit` and  associated `sampled_sign`, i.e. the product of all the elements of `gate_sign_list`."
   ]
  },
  {
   "cell_type": "markdown",
   "metadata": {},
   "source": [
    "Let's check the first 5 circuits, signs, and the one-norm:"
   ]
  },
  {
   "cell_type": "code",
   "execution_count": null,
   "metadata": {},
   "outputs": [],
   "source": []
  },
  {
   "cell_type": "markdown",
   "metadata": {},
   "source": [
    "## Step 2b: Inference of the ideal expectation value from the noisy execution of the auxiliary circuits"
   ]
  },
  {
   "cell_type": "markdown",
   "metadata": {},
   "source": [
    "Define a batched executor, i.e. an executor function that takes a list of circuits as input and returns a list of expectation values."
   ]
  },
  {
   "cell_type": "code",
   "execution_count": null,
   "metadata": {},
   "outputs": [],
   "source": []
  },
  {
   "cell_type": "markdown",
   "metadata": {},
   "source": [
    "Execute all the auxiliary circuits generated in the previous section to obtain a list of noisy expectation values."
   ]
  },
  {
   "cell_type": "code",
   "execution_count": null,
   "metadata": {},
   "outputs": [],
   "source": []
  },
  {
   "cell_type": "code",
   "execution_count": null,
   "metadata": {},
   "outputs": [],
   "source": []
  },
  {
   "cell_type": "markdown",
   "metadata": {},
   "source": [
    "Now estimate the ideal expecation value as an average of the noisy auxiliary expectation values, after scaling them by the corresponding sampled_signs and by the one_norm coefficient (obtained in the previous section)"
   ]
  },
  {
   "cell_type": "code",
   "execution_count": null,
   "metadata": {},
   "outputs": [],
   "source": []
  },
  {
   "cell_type": "markdown",
   "metadata": {},
   "source": [
    "Check if you can obtain a better PEC estimation (with reduced statistical fluctuations)- hint: increase the number of probabilistically generated circuits. "
   ]
  },
  {
   "cell_type": "markdown",
   "metadata": {},
   "source": [
    "## Step 3: Compare with top-level PEC workflow"
   ]
  },
  {
   "cell_type": "markdown",
   "metadata": {},
   "source": [
    "We will use the same circuit, noise model, representations, and executor as above, and call `execute_with_pec` in one line:"
   ]
  },
  {
   "cell_type": "code",
   "execution_count": null,
   "metadata": {},
   "outputs": [],
   "source": []
  }
 ],
 "metadata": {
  "interpreter": {
   "hash": "992c44e14009e3623432b51dfa0ccb8179e6507fb1569359de12ac98f26b40e8"
  },
  "kernelspec": {
   "display_name": "Python 3 (ipykernel)",
   "language": "python",
   "name": "python3"
  },
  "language_info": {
   "codemirror_mode": {
    "name": "ipython",
    "version": 3
   },
   "file_extension": ".py",
   "mimetype": "text/x-python",
   "name": "python",
   "nbconvert_exporter": "python",
   "pygments_lexer": "ipython3",
   "version": "3.8.13"
  }
 },
 "nbformat": 4,
 "nbformat_minor": 2
}
