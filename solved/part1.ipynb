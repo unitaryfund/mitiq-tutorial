{
 "cells": [
  {
   "cell_type": "markdown",
   "metadata": {},
   "source": [
    "# Mitiq Tutorial"
   ]
  },
  {
   "cell_type": "markdown",
   "metadata": {},
   "source": [
    "## Executors\n",
    "\n",
    "Executors are python functions that consume a quantum circuit, and output an expectation value.\n",
    "A type signature might look something like `Circuit -> float`.\n",
    "That said, executors can have additional arguments used to control other parts of the execution process.\n",
    "The circuit must be the first argument, however."
   ]
  },
  {
   "cell_type": "code",
   "execution_count": 21,
   "metadata": {},
   "outputs": [],
   "source": [
    "import cirq\n",
    "\n",
    "\n",
    "def execute(circuit, noise_level=0.005):\n",
    "    \"\"\"Returns Tr[ρ |0⟩⟨0|] where ρ is the state prepared by the circuit\n",
    "    with depolarizing noise.\"\"\"\n",
    "    noisy_circuit = circuit.with_noise(cirq.depolarize(p=noise_level))\n",
    "    return (\n",
    "        cirq.DensityMatrixSimulator()\n",
    "        .simulate(noisy_circuit)\n",
    "        .final_density_matrix[0, 0]\n",
    "        .real\n",
    "    )"
   ]
  },
  {
   "cell_type": "markdown",
   "metadata": {},
   "source": [
    "## ZNE"
   ]
  },
  {
   "cell_type": "code",
   "execution_count": 48,
   "metadata": {},
   "outputs": [
    {
     "name": "stdout",
     "output_type": "stream",
     "text": [
      "0: ───H───@───@───\n",
      "          │   │\n",
      "1: ───────X───┼───\n",
      "              │\n",
      "2: ───────────X───\n"
     ]
    }
   ],
   "source": [
    "circuit = cirq.Circuit()\n",
    "a, b, c = cirq.LineQubit.range(3)\n",
    "\n",
    "circuit.append(cirq.H(a))\n",
    "circuit.append(cirq.CNOT(a, b))\n",
    "circuit.append(cirq.CNOT(a, c))\n",
    "\n",
    "print(circuit)"
   ]
  },
  {
   "cell_type": "code",
   "execution_count": 50,
   "metadata": {},
   "outputs": [
    {
     "name": "stdout",
     "output_type": "stream",
     "text": [
      "     ┌───┐     ┌───┐\n",
      "q_0: ┤ H ├──■──┤ S ├\n",
      "     └───┘┌─┴─┐└───┘\n",
      "q_1: ─────┤ X ├──■──\n",
      "          └───┘┌─┴─┐\n",
      "q_2: ──────────┤ X ├\n",
      "               └───┘\n"
     ]
    }
   ],
   "source": [
    "from qiskit import QuantumCircuit\n",
    "\n",
    "qiskit_circuit = QuantumCircuit(3)\n",
    "qiskit_circuit.h(0)\n",
    "qiskit_circuit.cnot(0, 1)\n",
    "qiskit_circuit.cnot(1, 2)\n",
    "qiskit_circuit.s(0)\n",
    "\n",
    "print(qiskit_circuit)"
   ]
  },
  {
   "cell_type": "code",
   "execution_count": 51,
   "metadata": {},
   "outputs": [
    {
     "name": "stdout",
     "output_type": "stream",
     "text": [
      "     ┌───┐     ┌───┐┌─────┐     ┌───┐┌───┐     ┌───┐\n",
      "q_0: ┤ H ├──■──┤ S ├┤ Sdg ├──■──┤ H ├┤ H ├──■──┤ S ├\n",
      "     └───┘┌─┴─┐└───┘└─────┘┌─┴─┐└───┘└───┘┌─┴─┐└───┘\n",
      "q_1: ─────┤ X ├──■─────■───┤ X ├──────────┤ X ├──■──\n",
      "          └───┘┌─┴─┐ ┌─┴─┐ └───┘          └───┘┌─┴─┐\n",
      "q_2: ──────────┤ X ├─┤ X ├─────────────────────┤ X ├\n",
      "               └───┘ └───┘                     └───┘\n"
     ]
    }
   ],
   "source": [
    "from mitiq.zne.scaling import fold_global\n",
    "\n",
    "print(fold_global(qiskit_circuit, 3))"
   ]
  },
  {
   "cell_type": "code",
   "execution_count": 34,
   "metadata": {},
   "outputs": [
    {
     "name": "stdout",
     "output_type": "stream",
     "text": [
      "Error w/o  Mitiq: 0.582\n",
      "Error w Mitiq:    0.325\n"
     ]
    }
   ],
   "source": [
    "from mitiq import zne\n",
    "from mitiq.benchmarks import generate_rb_circuits\n",
    "\n",
    "circuit = generate_rb_circuits(n_qubits=2, num_cliffords=20)[0]\n",
    "\n",
    "true_value = execute(circuit, noise_level=0.0)\n",
    "noisy_value = execute(circuit)\n",
    "zne_value = zne.execute_with_zne(circuit, execute)\n",
    "\n",
    "print(f\"Error w/o  Mitiq: {abs((true_value - noisy_value) / true_value):.3f}\")\n",
    "print(f\"Error w Mitiq:    {abs((true_value - zne_value) / true_value):.3f}\")"
   ]
  },
  {
   "cell_type": "code",
   "execution_count": null,
   "metadata": {},
   "outputs": [],
   "source": []
  },
  {
   "cell_type": "markdown",
   "metadata": {},
   "source": [
    "## Calibration"
   ]
  },
  {
   "cell_type": "code",
   "execution_count": 26,
   "metadata": {},
   "outputs": [],
   "source": [
    "import numpy as np\n",
    "from mitiq import MeasurementResult\n",
    "\n",
    "\n",
    "def execute_with_depolarizing(circuit, noise_level=0.001):\n",
    "    circuit = circuit.with_noise(cirq.depolarize(p=noise_level))\n",
    "    result = cirq.DensityMatrixSimulator().run(circuit, repetitions=100)\n",
    "    bitstrings = np.column_stack(list(result.measurements.values()))\n",
    "    return MeasurementResult(bitstrings)"
   ]
  },
  {
   "cell_type": "code",
   "execution_count": 46,
   "metadata": {},
   "outputs": [
    {
     "name": "stdout",
     "output_type": "stream",
     "text": [
      "MeasurementResult: {'nqubits': 100, 'qubit_indices': (0, 1, 2, 3, 4, 5, 6, 7, 8, 9, 10, 11, 12, 13, 14, 15, 16, 17, 18, 19, 20, 21, 22, 23, 24, 25, 26, 27, 28, 29, 30, 31, 32, 33, 34, 35, 36, 37, 38, 39, 40, 41, 42, 43, 44, 45, 46, 47, 48, 49, 50, 51, 52, 53, 54, 55, 56, 57, 58, 59, 60, 61, 62, 63, 64, 65, 66, 67, 68, 69, 70, 71, 72, 73, 74, 75, 76, 77, 78, 79, 80, 81, 82, 83, 84, 85, 86, 87, 88, 89, 90, 91, 92, 93, 94, 95, 96, 97, 98, 99), 'shots': 2, 'counts': {'0000000000000000000000000000000000000000000000000000000000000000000000000000000000000000000000000000': 2}}\n",
      "MeasurementResult: {'nqubits': 2, 'qubit_indices': (0, 1), 'shots': 100, 'counts': {'00': 100}}\n"
     ]
    }
   ],
   "source": [
    "# circuit.append(cirq.measure(circuit.all_qubits()))\n",
    "# print(circuit)\n",
    "# print(execute_with_depolarizing(circuit))\n",
    "print(MeasurementResult(np.column_stack(list(cirq.DensityMatrixSimulator().run(circuit, repetitions=100).measurements.values()))))"
   ]
  },
  {
   "cell_type": "code",
   "execution_count": 27,
   "metadata": {},
   "outputs": [
    {
     "name": "stdout",
     "output_type": "stream",
     "text": [
      "| performance | circuit | method | extrapolation | scale factors | scale_method         |\n",
      "| ----------- | ------- | ------ | ------------- | ------------- | -------------------- |\n",
      "|     ❌      |   ghz   |  ZNE   | Richardson    | 1.0, 2.0, 3.0 | fold_global          |\n",
      "|     ❌      |   ghz   |  ZNE   | Richardson    | 1.0, 3.0, 5.0 | fold_global          |\n",
      "|     ❌      |   ghz   |  ZNE   | Linear        | 1.0, 2.0, 3.0 | fold_global          |\n",
      "|     ❌      |   ghz   |  ZNE   | Linear        | 1.0, 3.0, 5.0 | fold_global          |\n",
      "|     ❌      |   ghz   |  ZNE   | Richardson    | 1.0, 2.0, 3.0 | fold_gates_at_random |\n",
      "|     ❌      |   ghz   |  ZNE   | Richardson    | 1.0, 3.0, 5.0 | fold_gates_at_random |\n",
      "|     ❌      |   ghz   |  ZNE   | Linear        | 1.0, 2.0, 3.0 | fold_gates_at_random |\n",
      "|     ✅      |   ghz   |  ZNE   | Linear        | 1.0, 3.0, 5.0 | fold_gates_at_random |\n",
      "|     ❌      |    w    |  ZNE   | Richardson    | 1.0, 2.0, 3.0 | fold_global          |\n",
      "|     ❌      |    w    |  ZNE   | Richardson    | 1.0, 3.0, 5.0 | fold_global          |\n",
      "|     ❌      |    w    |  ZNE   | Linear        | 1.0, 2.0, 3.0 | fold_global          |\n",
      "|     ❌      |    w    |  ZNE   | Linear        | 1.0, 3.0, 5.0 | fold_global          |\n",
      "|     ❌      |    w    |  ZNE   | Richardson    | 1.0, 2.0, 3.0 | fold_gates_at_random |\n",
      "|     ❌      |    w    |  ZNE   | Richardson    | 1.0, 3.0, 5.0 | fold_gates_at_random |\n",
      "|     ❌      |    w    |  ZNE   | Linear        | 1.0, 2.0, 3.0 | fold_gates_at_random |\n",
      "|     ❌      |    w    |  ZNE   | Linear        | 1.0, 3.0, 5.0 | fold_gates_at_random |\n",
      "|     ❌      |   rb    |  ZNE   | Richardson    | 1.0, 2.0, 3.0 | fold_global          |\n",
      "|     ✅      |   rb    |  ZNE   | Richardson    | 1.0, 3.0, 5.0 | fold_global          |\n",
      "|     ✅      |   rb    |  ZNE   | Linear        | 1.0, 2.0, 3.0 | fold_global          |\n",
      "|     ✅      |   rb    |  ZNE   | Linear        | 1.0, 3.0, 5.0 | fold_global          |\n",
      "|     ✅      |   rb    |  ZNE   | Richardson    | 1.0, 2.0, 3.0 | fold_gates_at_random |\n",
      "|     ✅      |   rb    |  ZNE   | Richardson    | 1.0, 3.0, 5.0 | fold_gates_at_random |\n",
      "|     ✅      |   rb    |  ZNE   | Linear        | 1.0, 2.0, 3.0 | fold_gates_at_random |\n",
      "|     ❌      |   rb    |  ZNE   | Linear        | 1.0, 3.0, 5.0 | fold_gates_at_random |\n",
      "|     ❌      | mirror  |  ZNE   | Richardson    | 1.0, 2.0, 3.0 | fold_global          |\n",
      "|     ❌      | mirror  |  ZNE   | Richardson    | 1.0, 3.0, 5.0 | fold_global          |\n",
      "|     ❌      | mirror  |  ZNE   | Linear        | 1.0, 2.0, 3.0 | fold_global          |\n",
      "|     ✅      | mirror  |  ZNE   | Linear        | 1.0, 3.0, 5.0 | fold_global          |\n",
      "|     ✅      | mirror  |  ZNE   | Richardson    | 1.0, 2.0, 3.0 | fold_gates_at_random |\n",
      "|     ❌      | mirror  |  ZNE   | Richardson    | 1.0, 3.0, 5.0 | fold_gates_at_random |\n",
      "|     ❌      | mirror  |  ZNE   | Linear        | 1.0, 2.0, 3.0 | fold_gates_at_random |\n",
      "|     ✅      | mirror  |  ZNE   | Linear        | 1.0, 3.0, 5.0 | fold_gates_at_random |\n"
     ]
    }
   ],
   "source": [
    "from mitiq import Calibrator\n",
    "\n",
    "cal = Calibrator(execute_with_depolarizing, frontend=\"cirq\")\n",
    "\n",
    "cal.run(log=True)"
   ]
  },
  {
   "cell_type": "code",
   "execution_count": 28,
   "metadata": {},
   "outputs": [
    {
     "data": {
      "text/plain": [
       "{'technique': 'ZNE', 'factory': 'LinearFactory', 'scale_factors': [1.0, 2.0, 3.0], 'scale_method': 'fold_global'}"
      ]
     },
     "execution_count": 28,
     "metadata": {},
     "output_type": "execute_result"
    }
   ],
   "source": [
    "cal.best_strategy()"
   ]
  },
  {
   "cell_type": "code",
   "execution_count": null,
   "metadata": {},
   "outputs": [],
   "source": []
  }
 ],
 "metadata": {
  "kernelspec": {
   "display_name": "dev",
   "language": "python",
   "name": "python3"
  },
  "language_info": {
   "codemirror_mode": {
    "name": "ipython",
    "version": 3
   },
   "file_extension": ".py",
   "mimetype": "text/x-python",
   "name": "python",
   "nbconvert_exporter": "python",
   "pygments_lexer": "ipython3",
   "version": "3.10.9"
  },
  "orig_nbformat": 4
 },
 "nbformat": 4,
 "nbformat_minor": 2
}
