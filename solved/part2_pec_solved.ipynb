{
 "cells": [
  {
   "cell_type": "markdown",
   "metadata": {},
   "source": [
    "# Probabilisitic Error Cancellation with Mitiq"
   ]
  },
  {
   "cell_type": "markdown",
   "metadata": {},
   "source": [
    "### In this section we will complete the following steps:\n",
    "#### 1. Set up an example circuit in a Mitiq-supported frontend\n",
    "#### 2. Step through the two main components of PEC: \n",
    "     a. generating quasiprobability representations\n",
    "     b. sampling from the representations\n",
    "#### 3. Use Mitiq's top level function `mitiq.pec.execute_with_pec()` and check that the results are equivalent to those obtained in Step 2."
   ]
  },
  {
   "cell_type": "markdown",
   "metadata": {},
   "source": [
    "## Step 1: Set up circuit and representations of gates"
   ]
  },
  {
   "cell_type": "code",
   "execution_count": 10,
   "metadata": {},
   "outputs": [
    {
     "name": "stdout",
     "output_type": "stream",
     "text": [
      "0: ───X───Y^0───Y───X^0───Y───X───\n"
     ]
    }
   ],
   "source": [
    "import mitiq\n",
    "from mitiq import benchmarks\n",
    "\n",
    "frontend = \"cirq\"  # Supported: \"cirq\", \"qiskit\", \"pyquil\", \"braket\", \"pennylane\".\n",
    "\n",
    "circuit = benchmarks.generate_rb_circuits(\n",
    "  n_qubits=1, num_cliffords=2, return_type = frontend,\n",
    ")[0]\n",
    "print(circuit)"
   ]
  },
  {
   "cell_type": "markdown",
   "metadata": {},
   "source": [
    "Define the list of `OperationRepresentation`s (one for each gate).\n",
    "\n",
    "An `OperationRepresentation` is a decomposition (basis expansion) of an operation or sequence of operations in a basis of noisy, implementable operations.\n",
    "\n",
    "For this example we assume local depolarizing noise."
   ]
  },
  {
   "cell_type": "code",
   "execution_count": 11,
   "metadata": {},
   "outputs": [
    {
     "name": "stdout",
     "output_type": "stream",
     "text": [
      "4 OperationRepresentation objects produced, assuming 1.00% depolarizing noise.\n"
     ]
    }
   ],
   "source": [
    "from mitiq.pec.representations.depolarizing import represent_operations_in_circuit_with_local_depolarizing_noise\n",
    "\n",
    "noise_level = 0.01\n",
    "reps = represent_operations_in_circuit_with_local_depolarizing_noise(circuit, noise_level)\n",
    "print(f\"{len(reps)} OperationRepresentation objects produced, assuming {noise_level :.2%} depolarizing noise.\")"
   ]
  },
  {
   "cell_type": "markdown",
   "metadata": {},
   "source": [
    "Let's look at the first `OperationRepresentation` in the list `reps`:"
   ]
  },
  {
   "cell_type": "code",
   "execution_count": 3,
   "metadata": {},
   "outputs": [
    {
     "name": "stdout",
     "output_type": "stream",
     "text": [
      "0: ───X^0.5─── = 1.010*(0: ───X^0.5───)-0.003*(0: ───X^0.5───X───)-0.003*(0: ───X^0.5───Y───)-0.003*(0: ───X^0.5───Z───)\n"
     ]
    }
   ],
   "source": [
    "print(reps[0])"
   ]
  },
  {
   "cell_type": "markdown",
   "metadata": {},
   "source": [
    "## Step 2a: Probabilistic generation of all auxiliary circuits"
   ]
  },
  {
   "cell_type": "markdown",
   "metadata": {},
   "source": [
    "The following steps are implemented in the Mitiq function sample_circuit() to probabilistically generate an integer number of auxiliary circuits, equivalent to the number of PEC samples:\n",
    "- Define an empty `sampled_circuit` to be populated with probabilistic operations\n",
    "- Define an empty `gate_sign_list` to be populated with the sign values\n",
    "- Start a loop over the ideal operations of circuit:\n",
    "    - Search for the corresponding `OperationRepresentation` in the input list of quasiprobability representations\n",
    "    - Sample a noisy gate from the quasi-probability distribution of the ideal gate using `rep[j].sample()`\n",
    "    - Append the sampled gate to `sampled_circuit` and the corresponding sign to `gate_sign_list`;\n",
    "- Return `sampled_circuit` and  associated `sampled_sign`, i.e. the product of all the elements of `gate_sign_list`."
   ]
  },
  {
   "cell_type": "markdown",
   "metadata": {},
   "source": [
    "Let's check the first 5 circuits, signs, and the one-norm:"
   ]
  },
  {
   "cell_type": "code",
   "execution_count": 4,
   "metadata": {},
   "outputs": [
    {
     "name": "stdout",
     "output_type": "stream",
     "text": [
      "0: ───Y───X^-0.5───Y^-0.5───X^0.5───Y^-0.5───X^-0.5───Y^-0.5───\n",
      "0: ───Y───X^-0.5───Z───Y^-0.5───X^0.5───Y^-0.5───X^-0.5───Y^-0.5───\n",
      "0: ───Y───X^-0.5───Y^-0.5───X───X^0.5───Y^-0.5───X^-0.5───Y^-0.5───\n",
      "0: ───Y───X^-0.5───Y^-0.5───X^0.5───Y^-0.5───X^-0.5───Y^-0.5───\n",
      "0: ───Y───X^-0.5───Y^-0.5───X^0.5───Y^-0.5───X^-0.5───Y^-0.5───\n",
      "Signs: [1, -1, -1, 1, 1]\n",
      "One-norm: 1.1508179395702227\n"
     ]
    }
   ],
   "source": [
    "from mitiq import pec\n",
    "\n",
    "sampled_circuits, sampled_signs, one_norm = pec.sample_circuit(circuit, reps, num_samples=200, random_state=30)\n",
    "for circuit in sampled_circuits[:5]:\n",
    "    print(circuit)\n",
    "print(\"Signs:\", sampled_signs[:5])\n",
    "print(\"One-norm:\", one_norm)"
   ]
  },
  {
   "cell_type": "markdown",
   "metadata": {},
   "source": [
    "## Step 2b: Inference of the ideal expectation value from the noisy execution of the auxiliary circuits"
   ]
  },
  {
   "cell_type": "markdown",
   "metadata": {},
   "source": [
    "Define a batched executor, i.e. an executor function that takes a list of circuits as input and returns a list of expectation values."
   ]
  },
  {
   "cell_type": "code",
   "execution_count": 5,
   "metadata": {},
   "outputs": [],
   "source": [
    "from typing import List\n",
    "\n",
    "from cirq import DensityMatrixSimulator, depolarize\n",
    "from mitiq.interface import convert_to_mitiq\n",
    "\n",
    "def batched_execute(circuits: List[mitiq.QPROGRAM], noise_level: float=0.01)->List[float]:\n",
    "    \"\"\"Returns [Tr[ρ_1 |0⟩⟨0|], Tr[ρ_2 |0⟩⟨0|]... ] where ρ_j is the state prepared by the\n",
    "    j_th circuit in the input argument \"circuits\".\n",
    "    \"\"\"\n",
    "    # Replace with code based on your frontend and backend, possibly using a batched execution.\n",
    "    expectation_values = []\n",
    "    for circuit in circuits:\n",
    "        mitiq_circuit, _ = convert_to_mitiq(circuit)\n",
    "        noisy_circuit = mitiq_circuit.with_noise(depolarize(p=noise_level))\n",
    "        rho = DensityMatrixSimulator().simulate(noisy_circuit).final_density_matrix\n",
    "        expectation_values.append(rho[0, 0].real)\n",
    "    return expectation_values"
   ]
  },
  {
   "cell_type": "markdown",
   "metadata": {},
   "source": [
    "Execute all the auxiliary circuits generated in the previous section to obtain a list of noisy expectation values."
   ]
  },
  {
   "cell_type": "code",
   "execution_count": 6,
   "metadata": {},
   "outputs": [
    {
     "data": {
      "text/plain": [
       "[0.9551591,\n",
       " 0.05090978,\n",
       " 0.050909836,\n",
       " 0.05090978,\n",
       " 0.05090978,\n",
       " 0.05090979,\n",
       " 0.94909036,\n",
       " 0.050909836,\n",
       " 0.9490902,\n",
       " 0.050909836]"
      ]
     },
     "execution_count": 6,
     "metadata": {},
     "output_type": "execute_result"
    }
   ],
   "source": [
    "executor = mitiq.Executor(batched_execute, max_batch_size=100)\n",
    "noisy_expecation_values = executor.evaluate(\n",
    "    sampled_circuits, \n",
    "    force_run_all=False,\n",
    ")\n",
    "\n",
    "# Unique noisy expectation values associated to unique circuits in sampled_circuits\n",
    "executor.quantum_results[0:10]"
   ]
  },
  {
   "cell_type": "code",
   "execution_count": 7,
   "metadata": {},
   "outputs": [
    {
     "name": "stdout",
     "output_type": "stream",
     "text": [
      "200 noisy expectation values efficiently evaluated by executing only 13 unique circuits.\n"
     ]
    }
   ],
   "source": [
    "print(f\"{len(noisy_expecation_values)} noisy expectation values efficiently evaluated by executing only {len(executor.quantum_results)} unique circuits.\")"
   ]
  },
  {
   "cell_type": "markdown",
   "metadata": {},
   "source": [
    "Now estimate the ideal expecation value as an average of the noisy auxiliary expectation values, after scaling them by the corresponding sampled_signs and by the one_norm coefficient (obtained in the previous section)"
   ]
  },
  {
   "cell_type": "code",
   "execution_count": 8,
   "metadata": {},
   "outputs": [
    {
     "name": "stdout",
     "output_type": "stream",
     "text": [
      "Expectation value without error mitigation:    0.95516\n",
      "Expectation value with error mitigation (PEC): 0.99171\n"
     ]
    }
   ],
   "source": [
    "# Scale noisy results by one-norm coefficient and by sampled signs\n",
    "unbiased_samples = [\n",
    "  one_norm * value * sign for value, sign in zip(noisy_expecation_values, sampled_signs)\n",
    "]\n",
    "\n",
    "# Estimate ideal expectation value\n",
    "pec_value = sum(unbiased_samples) / len(unbiased_samples)\n",
    "\n",
    "unmitigated_value = executor.evaluate(circuit)[0]\n",
    "\n",
    "print(f\"Expectation value without error mitigation:    {unmitigated_value:.5f}\")\n",
    "print(f\"Expectation value with error mitigation (PEC): {pec_value:.5f}\")"
   ]
  },
  {
   "cell_type": "markdown",
   "metadata": {},
   "source": [
    "Check if you can obtain a better PEC estimation (with reduced statistical fluctuations)- hint: increase the number of probabilistically generated circuits. "
   ]
  },
  {
   "cell_type": "markdown",
   "metadata": {},
   "source": [
    "## Step 3: Compare with top-level PEC workflow"
   ]
  },
  {
   "cell_type": "markdown",
   "metadata": {},
   "source": [
    "We will use the same circuit, noise model, representations, and executor as above, and call `execute_with_pec` in one line:"
   ]
  },
  {
   "cell_type": "code",
   "execution_count": 9,
   "metadata": {},
   "outputs": [
    {
     "name": "stdout",
     "output_type": "stream",
     "text": [
      "Expectation value with error mitigation (PEC): 0.99171\n"
     ]
    }
   ],
   "source": [
    "pec_value_top_level = mitiq.pec.execute_with_pec(circuit, executor, representations=reps, num_samples=200, random_state=30)\n",
    "print(f\"Expectation value with error mitigation (PEC): {pec_value_top_level:.5f}\")"
   ]
  }
 ],
 "metadata": {
  "interpreter": {
   "hash": "992c44e14009e3623432b51dfa0ccb8179e6507fb1569359de12ac98f26b40e8"
  },
  "kernelspec": {
   "display_name": "Python 3 (ipykernel)",
   "language": "python",
   "name": "python3"
  },
  "language_info": {
   "codemirror_mode": {
    "name": "ipython",
    "version": 3
   },
   "file_extension": ".py",
   "mimetype": "text/x-python",
   "name": "python",
   "nbconvert_exporter": "python",
   "pygments_lexer": "ipython3",
   "version": "3.8.13"
  }
 },
 "nbformat": 4,
 "nbformat_minor": 2
}
